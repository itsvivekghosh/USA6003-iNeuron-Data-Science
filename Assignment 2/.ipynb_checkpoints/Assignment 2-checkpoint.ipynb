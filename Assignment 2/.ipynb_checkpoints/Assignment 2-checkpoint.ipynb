{
 "cells": [
  {
   "cell_type": "markdown",
   "metadata": {},
   "source": [
    "# Assignment 2\n",
    "## Task 1"
   ]
  },
  {
   "cell_type": "markdown",
   "metadata": {},
   "source": [
    "### Problem 1.1 Write a Python Program to implement your own myreduce() function which works exactly like Python's built-in function reduce()"
   ]
  },
  {
   "cell_type": "code",
   "execution_count": 1,
   "metadata": {},
   "outputs": [
    {
     "name": "stdout",
     "output_type": "stream",
     "text": [
      "Using functools.reduce()\n",
      "The Sum of all elements is: 857\n",
      "The Maximum element is: 155\n"
     ]
    }
   ],
   "source": [
    "# Using Reduce Function\n",
    "\n",
    "# importing functools for reduce() \n",
    "import functools \n",
    "import numpy as np\n",
    "\n",
    "num = list([123, 22, 56, 77, 19, 72, 62, 20, 155, 77, 81, 93])\n",
    "\n",
    "# Using reduce to compute maximum element from list \n",
    "print(\"Using functools.reduce()\\nThe Sum of all elements is:\", functools.reduce(lambda a, b : a+b, num))\n",
    "print(\"The Maximum element is:\", functools.reduce(lambda a, b: a if(a > b) else b, num))"
   ]
  },
  {
   "cell_type": "code",
   "execution_count": 2,
   "metadata": {},
   "outputs": [
    {
     "name": "stdout",
     "output_type": "stream",
     "text": [
      "Using mtReduce()\n",
      "The Sum of all elements is: 857\n",
      "The Maximum element is: 155\n"
     ]
    }
   ],
   "source": [
    "# Using Own Function\n",
    "def sum(x, y):\n",
    "    return x+y\n",
    "\n",
    "\n",
    "def myReduce(function, arr):\n",
    "    \n",
    "    ans = arr[0]\n",
    "\n",
    "    for item in arr[1:]:\n",
    "        ans = function(ans, item)\n",
    "    \n",
    "    return ans\n",
    "\n",
    "def maximum(a, b):\n",
    "    if a > b: \n",
    "        return a\n",
    "    else: \n",
    "        return b\n",
    "\n",
    "arr = list([123, 22, 56, 77, 19, 72, 62, 20, 155, 77, 81, 93])\n",
    "\n",
    "print(\"Using mtReduce()\\nThe Sum of all elements is:\", myReduce(sum, arr))\n",
    "print(\"The Maximum element is:\", myReduce(maximum, arr))"
   ]
  },
  {
   "cell_type": "markdown",
   "metadata": {},
   "source": [
    "### Problem 1.2: Write a Python program to implement your own myfilter() function which works exactly like Python's built-in function filter()"
   ]
  },
  {
   "cell_type": "code",
   "execution_count": 3,
   "metadata": {},
   "outputs": [
    {
     "name": "stdout",
     "output_type": "stream",
     "text": [
      "Using Filter() Function\n",
      "\n",
      "Original List: [5, 12, 17, 18, 24, 32]\n",
      "Out of that Adults are:  18 24 32 "
     ]
    }
   ],
   "source": [
    "### Using Filter() Method\n",
    "ages = [5, 12, 17, 18, 24, 32]\n",
    "\n",
    "def myFunc(x):\n",
    "  if x < 18:\n",
    "    return False\n",
    "  else:\n",
    "    return True\n",
    "\n",
    "adults = filter(myFunc, ages)\n",
    "\n",
    "print(\"Using Filter() Function\\n\")\n",
    "print(\"Original List: {}\".format(ages))\n",
    "print(\"Out of that Adults are: \", end=' ')\n",
    "\n",
    "for x in adults:\n",
    "  print(x, end=' ')"
   ]
  },
  {
   "cell_type": "code",
   "execution_count": 4,
   "metadata": {},
   "outputs": [
    {
     "name": "stdout",
     "output_type": "stream",
     "text": [
      "Using Custom Filter():\n",
      "\n",
      "Original List: [5, 12, 17, 18, 24, 32]\n",
      "Out of that Adults are:  18 24 32 "
     ]
    }
   ],
   "source": [
    "# Custom filter function ie. myFilter()\n",
    "ages = [5, 12, 17, 18, 24, 32]\n",
    "\n",
    "def isAdult(age):\n",
    "    if age >= 18:\n",
    "        return True\n",
    "    else:\n",
    "        return False\n",
    "\n",
    "def myFilter(function, arr):\n",
    "\n",
    "    adults = []\n",
    "\n",
    "    for item in arr:\n",
    "        if function(item):\n",
    "            adults.append(item)\n",
    "\n",
    "    return adults\n",
    "\n",
    "\n",
    "print(\"Using Custom Filter():\\n\")\n",
    "print(\"Original List: {}\".format(ages))\n",
    "print(\"Out of that Adults are: \", end=' ')\n",
    "adults = myFilter(isAdult, ages)\n",
    "\n",
    "for x in adults:\n",
    "    print(x, end=' ')"
   ]
  },
  {
   "cell_type": "markdown",
   "metadata": {},
   "source": [
    "### Problem 2: Implement List comprehensions to produce the following lists. Write List comprehensions to produce the following Lists"
   ]
  },
  {
   "cell_type": "markdown",
   "metadata": {},
   "source": [
    "-    ['A', 'C', 'A', 'D', 'G', 'I', ’L’, ‘ D’]\n",
    "-    ['x', 'xx', 'xxx', 'xxxx', 'y', 'yy', 'yyy', 'yyyy', 'z', 'zz', 'zzz', 'zzzz']\n",
    "-    ['x', 'y', 'z', 'xx', 'yy', 'zz', 'xxx', 'yyy', 'zzz', 'xxxx', 'yyyy', 'zzzz']\n",
    "-    [[2], [3], [4], [3], [4], [5], [4], [5], [6]] -[[2, 3, 4, 5], [3, 4, 5, 6], [4, 5, 6, 7], [5, 6, 7, 8]]\n",
    "-    [(1, 1), (2, 1), (3, 1), (1, 2), (2, 2), (3, 2), (1, 3), (2, 3), (3, 3)]\n",
    "\n"
   ]
  },
  {
   "cell_type": "code",
   "execution_count": 5,
   "metadata": {},
   "outputs": [
    {
     "name": "stdout",
     "output_type": "stream",
     "text": [
      "ACADGILD: ['A', 'C', 'A', 'D', 'G', 'I', 'L', 'D']\n"
     ]
    }
   ],
   "source": [
    "word = 'ACADGILD'\n",
    "arr = [c for c in word]\n",
    "print (\"ACADGILD: \" + str(arr))"
   ]
  },
  {
   "cell_type": "code",
   "execution_count": 6,
   "metadata": {},
   "outputs": [
    {
     "name": "stdout",
     "output_type": "stream",
     "text": [
      "xyz: ['x', 'xx', 'xxx', 'xxxx', 'y', 'yy', 'yyy', 'yyyy', 'z', 'zz', 'zzz', 'zzzz']\n"
     ]
    }
   ],
   "source": [
    "word = 'xyz'\n",
    "arr = [character * iteration for character in word for iteration in range(1, 5)]\n",
    "print (\"xyz: \" + str(arr))"
   ]
  },
  {
   "cell_type": "code",
   "execution_count": 7,
   "metadata": {},
   "outputs": [
    {
     "name": "stdout",
     "output_type": "stream",
     "text": [
      "xyz: ['x', 'y', 'z', 'xx', 'yy', 'zz', 'xxx', 'yyy', 'zzz', 'xxxx', 'yyyy', 'zzzz']\n"
     ]
    }
   ],
   "source": [
    "word = 'xyz'\n",
    "arr = [character * iteration for iteration in range(1, 5) for character in word]\n",
    "print (\"xyz: \" + str(arr))"
   ]
  },
  {
   "cell_type": "code",
   "execution_count": 8,
   "metadata": {},
   "outputs": [
    {
     "name": "stdout",
     "output_type": "stream",
     "text": [
      "[2, 3, 4]: [[2], [3], [4], [3], [4], [5], [4], [5], [6]]\n"
     ]
    }
   ],
   "source": [
    "net = [2, 3, 4]\n",
    "arr = [[character + iteration] for iteration in range(0, 3) for character in net]\n",
    "print (\"[2, 3, 4]: \" + str(arr))"
   ]
  },
  {
   "cell_type": "code",
   "execution_count": 9,
   "metadata": {},
   "outputs": [
    {
     "name": "stdout",
     "output_type": "stream",
     "text": [
      "[2, 3, 4, 5]: [[2, 3, 4, 5], [3, 4, 5, 6], [4, 5, 6, 7], [5, 6, 7, 8], [6, 7, 8, 9]]\n"
     ]
    }
   ],
   "source": [
    "net = [2, 3, 4, 5]\n",
    "arr = [[character + iteration for character in net] for iteration in range(0, 5)]\n",
    "print (\"[2, 3, 4, 5]: \" + str(arr))"
   ]
  },
  {
   "cell_type": "code",
   "execution_count": 10,
   "metadata": {
    "scrolled": true
   },
   "outputs": [
    {
     "name": "stdout",
     "output_type": "stream",
     "text": [
      "[1, 2, 3]: [(1, 1), (2, 1), (3, 1), (1, 2), (2, 2), (3, 2), (1, 3), (2, 3), (3, 3)]\n"
     ]
    }
   ],
   "source": [
    "net = [1, 2, 3]\n",
    "result = [ (y, x) for x in net for y in net]\n",
    "print(\"[1, 2, 3]: \" +  str(result))"
   ]
  },
  {
   "cell_type": "markdown",
   "metadata": {},
   "source": [
    "### Problem 3: Implement a function longestWord() that takes a list of words and returns the longest one."
   ]
  },
  {
   "cell_type": "code",
   "execution_count": 11,
   "metadata": {},
   "outputs": [
    {
     "name": "stdout",
     "output_type": "stream",
     "text": [
      "The Original List is: \n",
      "['Indonesia', 'Brazil', 'India', 'America', 'China', 'South Africa', 'Bangladesh', 'United Kingdom', 'Singapore', 'Switzerland']\n",
      "Longest Word: 'United Kingdom' and the length is: 14\n"
     ]
    }
   ],
   "source": [
    "def longestWord(words):\n",
    "    \n",
    "    dict_words = dict()\n",
    "    max_word_len = -1\n",
    "    max_word = None\n",
    "    \n",
    "    for word in words:\n",
    "        dict_words[word] = len(word)\n",
    "        \n",
    "        if max_word_len < len(word):\n",
    "            max_word_len = len(word)\n",
    "            max_word = word\n",
    "    \n",
    "    return max_word, max_word_len\n",
    "    \n",
    "words = ['Indonesia', 'Brazil', \"India\", \"America\", \"China\", \"South Africa\", \"Bangladesh\", \"United Kingdom\", \"Singapore\", \"Switzerland\"]\n",
    "print(\"The Original List is: \\n{}\".format(str(words)))\n",
    "\n",
    "word, length = longestWord(words)\n",
    "\n",
    "print(\"Longest Word: '{}' and the length is: {}\".format(\n",
    "    word, length\n",
    "))"
   ]
  },
  {
   "cell_type": "markdown",
   "metadata": {},
   "source": [
    "## Task 2:"
   ]
  },
  {
   "cell_type": "markdown",
   "metadata": {},
   "source": [
    "\n",
    "### Problem 1.1:\n",
    "Write a Python Program(with class concepts) to find the area of the triangle using the below formula:\n",
    "area = (s(s-a)(s-b)*(s-c)) ** 0.5¶\n",
    "\n",
    "Function to take the length of the sides of triangle from user should be defined in the parent class and function to calculate the area should be defined in subclass.\n"
   ]
  },
  {
   "cell_type": "code",
   "execution_count": 12,
   "metadata": {},
   "outputs": [],
   "source": [
    "### Find the area of triangle\n",
    "class Triangle(object): ## Parent Class\n",
    "\n",
    "    def __init__(self):\n",
    "        self.a = None\n",
    "        self.b = None\n",
    "        self.c = None\n",
    "        self.s = None\n",
    "\n",
    "\n",
    "    def calculateS(self):\n",
    "        self.s = (self.a + self.b + self.c) / 2\n",
    "\n",
    "\n",
    "    def inputSides(self):\n",
    "        self.a = int(input(\"Enter the Length of Side 1: \"))\n",
    "        self.b = int(input(\"Enter the Length of Side 2: \"))\n",
    "        self.c = int(input(\"Enter the Length of Side 3: \"))\n",
    "\n",
    "        self.calculateS()\n",
    "\n",
    "\n",
    "class Area(Triangle): ## Child Class\n",
    "\n",
    "    def __init__(self):\n",
    "        self.triangle = Triangle()\n",
    "        self.triangle.inputSides()\n",
    "        self.s, self.area = None, None\n",
    "\n",
    "\n",
    "    def calculateArea(self):\n",
    "        self.s = self.triangle.s\n",
    "        self.area = (\n",
    "            self.triangle.s * (self.triangle.s - self.triangle.a) \\\n",
    "            * (self.triangle.s - self.triangle.b) * \\\n",
    "            (self.triangle.s - self.triangle.c)) ** 0.5\n",
    "\n",
    "        return self.area"
   ]
  },
  {
   "cell_type": "code",
   "execution_count": 13,
   "metadata": {},
   "outputs": [
    {
     "name": "stdout",
     "output_type": "stream",
     "text": [
      "Enter the Length of Side 1: 50\n",
      "Enter the Length of Side 2: 60\n",
      "Enter the Length of Side 3: 70\n",
      "Area of Triangle 1 is: 1469.6938\n"
     ]
    }
   ],
   "source": [
    "area = Area()\n",
    "area = area.calculateArea()\n",
    "print(\"Area of Triangle 1 is: {}\".format(round(area, 4)))"
   ]
  },
  {
   "cell_type": "code",
   "execution_count": 14,
   "metadata": {},
   "outputs": [
    {
     "name": "stdout",
     "output_type": "stream",
     "text": [
      "Enter the Length of Side 1: 123\n",
      "Enter the Length of Side 2: 345\n",
      "Enter the Length of Side 3: 231\n",
      "Area of Triangle 2 is: 6497.1535\n"
     ]
    }
   ],
   "source": [
    "area = Area()\n",
    "area = area.calculateArea()\n",
    "print(\"Area of Triangle 2 is: {}\".format(round(area, 4)))"
   ]
  },
  {
   "cell_type": "markdown",
   "metadata": {},
   "source": [
    "### Problem 1.2: Write a function filter_long_words() that takes a list of words and an integer n and returns the list of words that are longer than n.¶"
   ]
  },
  {
   "cell_type": "code",
   "execution_count": 15,
   "metadata": {},
   "outputs": [],
   "source": [
    "def filter_long_words(words, n):\n",
    "\n",
    "    result = list()\n",
    "    result = [word for word in words if len(word) > n]\n",
    "    not_result = [word for word in words if len(word) < n] ## Just an Experiment\n",
    "    return result, not_result"
   ]
  },
  {
   "cell_type": "code",
   "execution_count": 16,
   "metadata": {},
   "outputs": [
    {
     "name": "stdout",
     "output_type": "stream",
     "text": [
      "Original List: ['Indonesia', 'Brazil', 'India', 'Australia', 'America', 'China', 'South Africa', 'Sri Lanka', 'Bangladesh', 'United Kingdom', 'Singapore', 'Switzerland'] of length 12\n",
      "\n",
      "\n",
      "All Words that are longer then length 7 are: ['Indonesia', 'Australia', 'South Africa', 'Sri Lanka', 'Bangladesh', 'United Kingdom', 'Singapore', 'Switzerland'] and the Result is of Length: 8\n",
      "\n",
      "\n",
      "All Words that are not longer then length 7 are: ['Brazil', 'India', 'China'] and the Result is of Length: 3\n"
     ]
    }
   ],
   "source": [
    "\n",
    "\n",
    "words = ['Indonesia', 'Brazil', \"India\", \"Australia\", \"America\", \"China\", \"South Africa\", \"Sri Lanka\", \"Bangladesh\", \"United Kingdom\", \"Singapore\", \"Switzerland\"]\n",
    "threshold = 7\n",
    "\n",
    "print(\"Original List: {} of length {}\\n\\n\".format(words, len(words)))\n",
    "\n",
    "result, not_result = filter_long_words(words, threshold)\n",
    "print(\"All Words that are longer then length {} are: {} and the Result is of Length: {}\\n\\n\".format(threshold, result, len(result)))\n",
    "print(\"All Words that are not longer then length {} are: {} and the Result is of Length: {}\".format(threshold, not_result, len(not_result)))\n",
    "\n"
   ]
  },
  {
   "cell_type": "markdown",
   "metadata": {},
   "source": [
    "\n",
    "### Problem 2.1:  Write a Python program using function concept that maps list of words into a list of integers representing the lengths of the corresponding words.\n",
    "\n",
    "***Hint: If a list [ ab,cde,erty] is passed on to the python function output should come as [2,3,4] Here 2,3 and 4 are the lengths of the words in the list.***"
   ]
  },
  {
   "cell_type": "code",
   "execution_count": 17,
   "metadata": {},
   "outputs": [
    {
     "name": "stdout",
     "output_type": "stream",
     "text": [
      "The Original List was :['Indonesia', 'Brazil', 'Indian', 'Australia', 'America', 'Canada', 'South Africa', 'Sri Lanka', 'Bangladesh', 'United Kingdom', 'Singapore', 'Switzerland'] \n",
      "and The Result is: [9, 6, 6, 9, 7, 6, 12, 9, 10, 14, 9, 11]\n",
      "<<< ********** Each Word Corresponds to the length of it ********** >>>\n"
     ]
    }
   ],
   "source": [
    "## Function that maps words to the length of the words corresponding to it...\n",
    "def mapListLengths(words):\n",
    "\n",
    "    lengths = dict()   ### Just an experiment\n",
    "    lengths_ = list() ### Result List\n",
    "\n",
    "    for word in words:\n",
    "        lengths[word] = len(word)\n",
    "        lengths_.append(len(word))\n",
    "\n",
    "    return lengths, lengths_\n",
    "\n",
    "### Passing Word List to mapListLengths()\n",
    "words = ['Indonesia', 'Brazil', \"Indian\", \"Australia\", \"America\", \"Canada\", \"South Africa\", \"Sri Lanka\", \"Bangladesh\", \"United Kingdom\", \"Singapore\", \"Switzerland\"]\n",
    "result, result_ = mapListLengths(words)\n",
    "print(\"The Original List was :{} \\nand The Result is: {}\".format(words, result_))\n",
    "print(\"<<<\", \"*\" * 10, \"Each Word Corresponds to the length of it\", \"*\" * 10,\">>>\")"
   ]
  },
  {
   "cell_type": "markdown",
   "metadata": {},
   "source": [
    "### Problem 2.2: Write a Python function which takes a character (i.e. a string of length 1) and returns True if it is a vowel, False otherwise."
   ]
  },
  {
   "cell_type": "code",
   "execution_count": 18,
   "metadata": {},
   "outputs": [],
   "source": [
    "### The main function that return false if \"Not Vowel\" and True if \"Vowel\"\n",
    "def isVowelOrNot(character):\n",
    "    \n",
    "    vowels = {\n",
    "        'a': True,\n",
    "        'e': True,\n",
    "        'o': True,\n",
    "        'u': True,\n",
    "        'i': True\n",
    "    }\n",
    "\n",
    "    return vowels.get(character, False)"
   ]
  },
  {
   "cell_type": "code",
   "execution_count": 19,
   "metadata": {},
   "outputs": [
    {
     "name": "stdout",
     "output_type": "stream",
     "text": [
      "Priting all Vowels which is, or Not!...\n",
      "\n",
      "\n",
      "Yes, a is a Vowel!\n",
      "No, b is not a Vowel!\n",
      "No, c is not a Vowel!\n",
      "No, d is not a Vowel!\n",
      "Yes, e is a Vowel!\n",
      "No, f is not a Vowel!\n",
      "No, g is not a Vowel!\n",
      "No, h is not a Vowel!\n",
      "Yes, i is a Vowel!\n",
      "No, j is not a Vowel!\n",
      "No, k is not a Vowel!\n",
      "No, l is not a Vowel!\n",
      "No, m is not a Vowel!\n",
      "No, n is not a Vowel!\n",
      "Yes, o is a Vowel!\n",
      "No, p is not a Vowel!\n",
      "No, q is not a Vowel!\n",
      "No, r is not a Vowel!\n",
      "No, s is not a Vowel!\n",
      "No, t is not a Vowel!\n",
      "Yes, u is a Vowel!\n",
      "No, v is not a Vowel!\n",
      "No, w is not a Vowel!\n",
      "No, x is not a Vowel!\n",
      "No, y is not a Vowel!\n",
      "No, z is not a Vowel!\n",
      "\n",
      "\n",
      "Finish...!\n"
     ]
    }
   ],
   "source": [
    "## Printing all Vowels\n",
    "print(\"Priting all Vowels which is, or Not!...\\n\\n\")\n",
    "for char in range(ord('a'), ord('z')+1):\n",
    "\n",
    "    if(isVowelOrNot(chr(char))):\n",
    "        print(\"Yes, {} is a Vowel!\".format(chr(char)))\n",
    "\n",
    "    else:\n",
    "        print(\"No, {} is not a Vowel!\".format(chr(char)))\n",
    "\n",
    "print(\"\\n\\nFinish...!\")"
   ]
  },
  {
   "cell_type": "code",
   "execution_count": null,
   "metadata": {},
   "outputs": [],
   "source": []
  }
 ],
 "metadata": {
  "kernelspec": {
   "display_name": "Python 3",
   "language": "python",
   "name": "python3"
  },
  "language_info": {
   "codemirror_mode": {
    "name": "ipython",
    "version": 3
   },
   "file_extension": ".py",
   "mimetype": "text/x-python",
   "name": "python",
   "nbconvert_exporter": "python",
   "pygments_lexer": "ipython3",
   "version": "3.7.7"
  }
 },
 "nbformat": 4,
 "nbformat_minor": 4
}
